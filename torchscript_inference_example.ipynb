{
 "cells": [
  {
   "cell_type": "code",
   "execution_count": 1,
   "metadata": {},
   "outputs": [],
   "source": [
    "from src.image_captioner import ImageCaptionerTorchscript\n",
    "import logging\n",
    "from PIL import Image\n",
    "# logging.basicConfig(level=logging.INFO)"
   ]
  },
  {
   "cell_type": "code",
   "execution_count": 2,
   "metadata": {},
   "outputs": [],
   "source": [
    "model = ImageCaptionerTorchscript(\n",
    "    checkpoint_path='weights/ViTSTR-TS-FP16.torchscript', \n",
    "    labels=['0', '1', '2', '3', '4', '5', '6', '7', '8', '9'],\n",
    "    device='cuda:0'\n",
    ")"
   ]
  },
  {
   "cell_type": "code",
   "execution_count": 3,
   "metadata": {},
   "outputs": [
    {
     "name": "stdout",
     "output_type": "stream",
     "text": [
      "torch.Size([1, 3, 224, 224]) torch.float16 cuda:0\n"
     ]
    },
    {
     "data": {
      "image/png": "[encoded data removed]",
      "text/plain": [
       "<PIL.PngImagePlugin.PngImageFile image mode=RGBA size=68x58>"
      ]
     },
     "metadata": {},
     "output_type": "display_data"
    },
    {
     "name": "stdout",
     "output_type": "stream",
     "text": [
      "Confidences:\n",
      "\n",
      "[0.882  0.928  0.3496]\n",
      "\n",
      "Indices:\n",
      "\n",
      "[4, 10, 12] \n",
      "\n",
      "Predicted price:  179\n"
     ]
    }
   ],
   "source": [
    "path_to_image = 'imgs/image.png'\n",
    "processed_img = model.preprocess_image(path_to_image)\n",
    "print(processed_img.shape, processed_img.dtype, processed_img.device)\n",
    "display(Image.open(path_to_image))\n",
    "print('Predicted price: ', model.predict(processed_img))"
   ]
  }
 ],
 "metadata": {
  "kernelspec": {
   "display_name": "DL",
   "language": "python",
   "name": "python3"
  },
  "language_info": {
   "codemirror_mode": {
    "name": "ipython",
    "version": 3
   },
   "file_extension": ".py",
   "mimetype": "text/x-python",
   "name": "python",
   "nbconvert_exporter": "python",
   "pygments_lexer": "ipython3",
   "version": "3.11.9"
  }
 },
 "nbformat": 4,
 "nbformat_minor": 2
}
