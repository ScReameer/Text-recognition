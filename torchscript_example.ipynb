{
 "cells": [
  {
   "cell_type": "code",
   "execution_count": 1,
   "metadata": {},
   "outputs": [],
   "source": [
    "import torch\n",
    "from src.net.model import ViTSTRTransducer"
   ]
  },
  {
   "cell_type": "code",
   "execution_count": 2,
   "metadata": {},
   "outputs": [],
   "source": [
    "DEVICE = 'cuda:0' if torch.cuda.is_available() else 'cpu'\n",
    "checkpoint_path = \"ViTSTR-FP32-base.ckpt\"\n",
    "model = ViTSTRTransducer.load_from_checkpoint(checkpoint_path, training=False, map_location=DEVICE).eval()\n",
    "model.freeze()\n",
    "input_size = (model.input_channels, *model.input_size)\n",
    "vocab_size = model.vocab_size"
   ]
  },
  {
   "cell_type": "markdown",
   "metadata": {},
   "source": [
    "# FP16 torchscript"
   ]
  },
  {
   "cell_type": "code",
   "execution_count": 3,
   "metadata": {},
   "outputs": [
    {
     "name": "stdout",
     "output_type": "stream",
     "text": [
      "Total params: 175\n",
      "Total FP16 params: 175\n"
     ]
    }
   ],
   "source": [
    "fp16_weights_path = \"ViTSTR-FP16-base.torchscript\"\n",
    "model.half().to_torchscript(fp16_weights_path)\n",
    "model_ts_fp16 = torch.jit.load(fp16_weights_path, map_location=DEVICE)\n",
    "params = {i: param.dtype == torch.half for i, param in enumerate(model_ts_fp16.parameters())}\n",
    "print(f'Total params: {len(params.keys())}\\nTotal FP16 params: {sum(params.values())}')"
   ]
  },
  {
   "cell_type": "code",
   "execution_count": 4,
   "metadata": {},
   "outputs": [
    {
     "name": "stdout",
     "output_type": "stream",
     "text": [
      "torch.Size([1, 5, 48]) torch.float16\n"
     ]
    }
   ],
   "source": [
    "# Image input shape: [1, C, H, W], dont forget about normalizing\n",
    "img_input_fp16 = torch.rand(1, *input_size, device=DEVICE).half()\n",
    "seq_len = 5\n",
    "vocab_size = vocab_size\n",
    "target_input = torch.randint(0, vocab_size, (1, seq_len), dtype=torch.int32, device=DEVICE)\n",
    "output = model_ts_fp16(img_input_fp16, target_input)\n",
    "print(output.shape, output.dtype) # Output shape: [1, seq, vocab_size]"
   ]
  },
  {
   "cell_type": "markdown",
   "metadata": {},
   "source": [
    "# BF16 torchscript"
   ]
  },
  {
   "cell_type": "code",
   "execution_count": 5,
   "metadata": {},
   "outputs": [
    {
     "name": "stdout",
     "output_type": "stream",
     "text": [
      "Total params: 175\n",
      "Total BF16 params: 175\n"
     ]
    }
   ],
   "source": [
    "bf16_weights_path = \"ViTSTR-BF16-base.torchscript\"\n",
    "model.bfloat16().to_torchscript(bf16_weights_path)\n",
    "model_ts_bf16 = torch.jit.load(bf16_weights_path, map_location=DEVICE)\n",
    "params = {i: param.dtype == torch.bfloat16 for i, param in enumerate(model_ts_bf16.parameters())}\n",
    "print(f'Total params: {len(params.keys())}\\nTotal BF16 params: {sum(params.values())}')"
   ]
  },
  {
   "cell_type": "code",
   "execution_count": 6,
   "metadata": {},
   "outputs": [
    {
     "name": "stdout",
     "output_type": "stream",
     "text": [
      "torch.Size([1, 5, 48]) torch.bfloat16\n"
     ]
    }
   ],
   "source": [
    "# Image input shape: [1, C, H, W], dont forget about normalizing\n",
    "img_input_bf16 = torch.rand(1, *input_size, device=DEVICE).bfloat16()\n",
    "seq_len = 5\n",
    "vocab_size = vocab_size\n",
    "target_input = torch.randint(0, vocab_size, (1, seq_len), dtype=torch.int32, device=DEVICE)\n",
    "output = model_ts_bf16(img_input_bf16, target_input)\n",
    "print(output.shape, output.dtype) # Output shape: [1, seq, vocab_size]"
   ]
  }
 ],
 "metadata": {
  "kernelspec": {
   "display_name": "DL",
   "language": "python",
   "name": "python3"
  },
  "language_info": {
   "codemirror_mode": {
    "name": "ipython",
    "version": 3
   },
   "file_extension": ".py",
   "mimetype": "text/x-python",
   "name": "python",
   "nbconvert_exporter": "python",
   "pygments_lexer": "ipython3",
   "version": "3.12.9"
  }
 },
 "nbformat": 4,
 "nbformat_minor": 2
}
