{
 "cells": [
  {
   "cell_type": "markdown",
   "metadata": {},
   "source": [
    "# <center>ViTSTR-Transducer inference"
   ]
  },
  {
   "cell_type": "code",
   "execution_count": 1,
   "metadata": {},
   "outputs": [],
   "source": [
    "import os\n",
    "from src.image_captioner import ImageCaptioner"
   ]
  },
  {
   "cell_type": "code",
   "execution_count": 2,
   "metadata": {},
   "outputs": [
    {
     "name": "stdout",
     "output_type": "stream",
     "text": [
      "Successfully loaded ViTSTR-T weights!\n",
      "\n"
     ]
    }
   ],
   "source": [
    "EXAMPLES_PATH = '/mnt/f/CV/test'\n",
    "CHECKPOINT_PATH = '/home/vadim/DL/work/ViTSTR/weights/ViTSTRTransducer-BEST.ckpt' # Set your checkpoint path\n",
    "image_captioner = ImageCaptioner(checkpoint_path=CHECKPOINT_PATH, device='cuda')"
   ]
  },
  {
   "cell_type": "markdown",
   "metadata": {},
   "source": [
    "## Examples"
   ]
  },
  {
   "cell_type": "code",
   "execution_count": 3,
   "metadata": {},
   "outputs": [],
   "source": [
    "for filename in os.listdir(EXAMPLES_PATH):\n",
    "    predicted_caption = image_captioner.caption_image(os.path.join(EXAMPLES_PATH, filename), save_img=True)"
   ]
  }
 ],
 "metadata": {
  "kernelspec": {
   "display_name": "base",
   "language": "python",
   "name": "python3"
  },
  "language_info": {
   "codemirror_mode": {
    "name": "ipython",
    "version": 3
   },
   "file_extension": ".py",
   "mimetype": "text/x-python",
   "name": "python",
   "nbconvert_exporter": "python",
   "pygments_lexer": "ipython3",
   "version": "3.11.9"
  }
 },
 "nbformat": 4,
 "nbformat_minor": 2
}
