{
 "cells": [
  {
   "cell_type": "code",
   "execution_count": 1,
   "metadata": {},
   "outputs": [],
   "source": [
    "from src.data_processing.dataset import LmdbDataset, Database, Collate\n",
    "from src.net.encoder import ViTSTR\n",
    "from torch.utils.data import DataLoader\n",
    "from src.data_processing.vocabulary import Vocabulary\n",
    "from multiprocessing import cpu_count\n",
    "# Project constants\n",
    "NUM_WORKERS = cpu_count()\n",
    "MAX_EPOCHS = 3\n",
    "BATCH_SIZE = 128\n",
    "DATABASE_TRAIN_PATH = '/mnt/s/CV/data_lmdb_release/training/ST'\n",
    "DATABASE_VALID_PATH = '/mnt/s/CV/data_lmdb_release/validation'\n",
    "# Model hyperparametres\n",
    "D_MODEL = 256\n",
    "NUM_HEADS = 4\n",
    "INPUT_CHANNELS = 1\n",
    "LR_MAX = 1e-4\n",
    "LR_MIN = 1e-5"
   ]
  },
  {
   "cell_type": "code",
   "execution_count": 2,
   "metadata": {},
   "outputs": [
    {
     "name": "stdout",
     "output_type": "stream",
     "text": [
      "Vocabulary size: 72\n",
      "Train size: 2761404\n",
      "Val/test size: 3496/3496\n"
     ]
    }
   ],
   "source": [
    "vocab = Vocabulary()\n",
    "\n",
    "train_db = Database(DATABASE_TRAIN_PATH, max_readers=NUM_WORKERS)\n",
    "valid_db = Database(DATABASE_VALID_PATH, max_readers=NUM_WORKERS)\n",
    "\n",
    "dataset_train = LmdbDataset(train_db, vocab, sample='train')\n",
    "dataset_valid = LmdbDataset(valid_db, vocab, sample='valid')\n",
    "dataset_test = LmdbDataset(valid_db, vocab, sample='test')\n",
    "\n",
    "collate = Collate(pad_idx=vocab.char2idx['<PAD>'])\n",
    "dataloader_train = DataLoader(dataset_train, batch_size=BATCH_SIZE, collate_fn=collate, shuffle=True, num_workers=NUM_WORKERS)\n",
    "dataloader_valid = DataLoader(dataset_valid, batch_size=BATCH_SIZE, collate_fn=collate, shuffle=False, num_workers=NUM_WORKERS)\n",
    "dataloader_test = DataLoader(dataset_test, batch_size=BATCH_SIZE, collate_fn=collate, shuffle=False, num_workers=NUM_WORKERS)\n",
    "\n",
    "print(f'Vocabulary size: {len(vocab)}')\n",
    "print(f'Train size: {len(dataset_train)}')\n",
    "print(f'Val/test size: {len(dataset_valid)}/{len(dataset_test)}')"
   ]
  },
  {
   "cell_type": "code",
   "execution_count": 3,
   "metadata": {},
   "outputs": [
    {
     "data": {
      "text/plain": [
       "torch.Size([224, 224])"
      ]
     },
     "execution_count": 3,
     "metadata": {},
     "output_type": "execute_result"
    }
   ],
   "source": [
    "dataset_valid[0][0].shape"
   ]
  },
  {
   "cell_type": "code",
   "execution_count": 4,
   "metadata": {},
   "outputs": [
    {
     "data": {
      "text/plain": [
       "(torch.Size([128, 1, 224, 224]), torch.Size([128, 13]))"
      ]
     },
     "execution_count": 4,
     "metadata": {},
     "output_type": "execute_result"
    }
   ],
   "source": [
    "item = next(iter(dataloader_train))\n",
    "item[0].shape, item[1].shape"
   ]
  },
  {
   "cell_type": "code",
   "execution_count": 5,
   "metadata": {},
   "outputs": [
    {
     "data": {
      "text/plain": [
       "tensor([ 1, 22, 27, 20, 26,  2,  0,  0,  0,  0,  0,  0,  0])"
      ]
     },
     "execution_count": 5,
     "metadata": {},
     "output_type": "execute_result"
    }
   ],
   "source": [
    "item[1][0]"
   ]
  },
  {
   "cell_type": "code",
   "execution_count": 6,
   "metadata": {},
   "outputs": [],
   "source": [
    "model = ViTSTR(in_chans=1, embed_dim=384, num_classes=70)\n",
    "# model.reset_classifier(num_classes=len(vocab))"
   ]
  },
  {
   "cell_type": "code",
   "execution_count": 7,
   "metadata": {},
   "outputs": [
    {
     "data": {
      "text/plain": [
       "torch.Size([128, 25, 70])"
      ]
     },
     "execution_count": 7,
     "metadata": {},
     "output_type": "execute_result"
    }
   ],
   "source": [
    "model(item[0], seqlen=25).shape"
   ]
  }
 ],
 "metadata": {
  "kernelspec": {
   "display_name": "base",
   "language": "python",
   "name": "python3"
  },
  "language_info": {
   "codemirror_mode": {
    "name": "ipython",
    "version": 3
   },
   "file_extension": ".py",
   "mimetype": "text/x-python",
   "name": "python",
   "nbconvert_exporter": "python",
   "pygments_lexer": "ipython3",
   "version": "3.11.5"
  }
 },
 "nbformat": 4,
 "nbformat_minor": 2
}
