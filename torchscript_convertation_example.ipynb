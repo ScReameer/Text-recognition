{
 "cells": [
  {
   "cell_type": "code",
   "execution_count": 1,
   "metadata": {},
   "outputs": [],
   "source": [
    "import torch\n",
    "from src.net.model import ViTSTRTransducer"
   ]
  },
  {
   "cell_type": "code",
   "execution_count": null,
   "metadata": {},
   "outputs": [
    {
     "name": "stdout",
     "output_type": "stream",
     "text": [
      "Successfully loaded ViTSTR-T weights!\n",
      "\n"
     ]
    }
   ],
   "source": [
    "DEVICE = 'cuda:0' if torch.cuda.is_available() else 'cpu'\n",
    "checkpoint_path = \"/home/vadim/DL/work/ViTSTR/weights/ViTSTRTransducer-BEST.ckpt\"\n",
    "model = ViTSTRTransducer.load_from_checkpoint(checkpoint_path, training=False, map_location=DEVICE).eval()\n",
    "model.freeze()"
   ]
  },
  {
   "cell_type": "code",
   "execution_count": 3,
   "metadata": {},
   "outputs": [
    {
     "name": "stdout",
     "output_type": "stream",
     "text": [
      "Total params: 175\n",
      "Total FP16 params: 175\n"
     ]
    }
   ],
   "source": [
    "model_ts = model.half().to_torchscript('ViTSTR-T-half.torchscript')\n",
    "params = {i: param.dtype == torch.half for i, param in enumerate(model_ts.parameters())}\n",
    "print(f'Total params: {len(params.keys())}\\nTotal FP16 params: {sum(params.values())}')"
   ]
  },
  {
   "cell_type": "code",
   "execution_count": 4,
   "metadata": {},
   "outputs": [
    {
     "data": {
      "text/plain": [
       "torch.Size([1, 17, 17])"
      ]
     },
     "execution_count": 4,
     "metadata": {},
     "output_type": "execute_result"
    }
   ],
   "source": [
    "# Image input shape: [1, C, H, W]\n",
    "img_input = torch.rand(1, 3, 224, 224, device=DEVICE).half()\n",
    "# Sequence length\n",
    "seq_len = 17\n",
    "vocab_size = 17\n",
    "target_input = torch.randint(0, vocab_size, (1, seq_len), dtype=torch.int32, device=DEVICE)\n",
    "# Output shape: [1, seq, vocab_size]\n",
    "output = model_ts(img_input, target_input)\n",
    "output.shape"
   ]
  }
 ],
 "metadata": {
  "kernelspec": {
   "display_name": "DL",
   "language": "python",
   "name": "python3"
  },
  "language_info": {
   "codemirror_mode": {
    "name": "ipython",
    "version": 3
   },
   "file_extension": ".py",
   "mimetype": "text/x-python",
   "name": "python",
   "nbconvert_exporter": "python",
   "pygments_lexer": "ipython3",
   "version": "3.11.9"
  }
 },
 "nbformat": 4,
 "nbformat_minor": 2
}
